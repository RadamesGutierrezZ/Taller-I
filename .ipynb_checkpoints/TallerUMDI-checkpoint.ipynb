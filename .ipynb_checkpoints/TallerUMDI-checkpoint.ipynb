{
 "cells": [
  {
   "cell_type": "markdown",
   "metadata": {},
   "source": [
    "<div style=\"background-color:powderblue;padding:0px ; background-size:cover ; border-radius: 5px ; height: 200px\" >\n",
    "\n",
    "<img src=\"jupyter.png\" width=150 height=150 align=\"right\" align=\"top\" />\n",
    "<img src=\"julia.png\" width=200 height=200 align=\"right\" align=\"top\" />\n",
    "\n",
    "  \n",
    "\n",
    "<div style=\" position: relative; top:70%; left:0%; font-size:x-large ; font-weight: 900\"> Víctor H. Márquez R. </div>\n",
    "<div style=\" position: relative; top:75%; left:0%; font-size:large ; font-weight: 600\"> Taller-UMDI Junio/2017 </div>\n",
    "\n",
    "</div>"
   ]
  },
  {
   "cell_type": "code",
   "execution_count": 1,
   "metadata": {},
   "outputs": [
    {
     "data": {
      "text/plain": [
       "\"\""
      ]
     },
     "execution_count": 1,
     "metadata": {},
     "output_type": "execute_result"
    }
   ],
   "source": [
    "ENV[\"PYTHON\"] = \"\""
   ]
  },
  {
   "cell_type": "code",
   "execution_count": 2,
   "metadata": {
    "collapsed": true
   },
   "outputs": [],
   "source": [
    "using PyPlot"
   ]
  },
  {
   "cell_type": "code",
   "execution_count": null,
   "metadata": {
    "collapsed": true
   },
   "outputs": [],
   "source": []
  }
 ],
 "metadata": {
  "kernelspec": {
   "display_name": "Julia 0.5.1",
   "language": "julia",
   "name": "julia-0.5"
  },
  "language_info": {
   "file_extension": ".jl",
   "mimetype": "application/julia",
   "name": "julia",
   "version": "0.5.1"
  }
 },
 "nbformat": 4,
 "nbformat_minor": 2
}
