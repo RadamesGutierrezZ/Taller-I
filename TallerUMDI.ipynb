{
 "cells": [
  {
   "cell_type": "markdown",
   "metadata": {},
   "source": [
    "<h1><center> Taller UMDI Junio/2017  </center></h1><img src=\"julia.png\" align=\"left\" style=\"width:100px\"><img src=\"jupyter.png\" align=\"right\" style=\"width:100px\">\n",
    "\n"
   ]
  },
  {
   "cell_type": "markdown",
   "metadata": {
    "collapsed": true
   },
   "source": [
    "<div style=\"background-color:powderblue;padding:0px ; background-size:cover ; border-radius: 5px ; height: 150px\" >\n",
    "\n",
    "<img src=\"jupyter.png\" width=150 height=150 align=\"right\" align=\"top\" />\n",
    "<img src=\"julia.png\" width=200 height=200 align=\"left\" align=\"top\" />\n",
    " \n",
    "<h1 align=\"center\">Coefficient of Friction </h1>  <h1 align=\"center\">$\\mu(u,h)$</h1>\n",
    " \n",
    " \n",
    " </div>"
   ]
  },
  {
   "cell_type": "code",
   "execution_count": 1,
   "metadata": {},
   "outputs": [
    {
     "data": {
      "text/plain": [
       "\"\""
      ]
     },
     "execution_count": 1,
     "metadata": {},
     "output_type": "execute_result"
    }
   ],
   "source": [
    "ENV[\"PYTHON\"] = \"\""
   ]
  },
  {
   "cell_type": "code",
   "execution_count": 2,
   "metadata": {
    "collapsed": true
   },
   "outputs": [],
   "source": [
    "using PyPlot"
   ]
  },
  {
   "cell_type": "code",
   "execution_count": 2,
   "metadata": {
    "collapsed": true
   },
   "outputs": [],
   "source": [
    "workspace()"
   ]
  },
  {
   "cell_type": "code",
   "execution_count": null,
   "metadata": {
    "collapsed": true
   },
   "outputs": [],
   "source": []
  }
 ],
 "metadata": {
  "kernelspec": {
   "display_name": "Julia 0.5.1",
   "language": "julia",
   "name": "julia-0.5"
  },
  "language_info": {
   "file_extension": ".jl",
   "mimetype": "application/julia",
   "name": "julia",
   "version": "0.5.1"
  }
 },
 "nbformat": 4,
 "nbformat_minor": 2
}
